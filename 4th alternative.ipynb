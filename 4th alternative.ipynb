{
 "cells": [
  {
   "cell_type": "code",
   "execution_count": 1,
   "metadata": {},
   "outputs": [
    {
     "name": "stdout",
     "output_type": "stream",
     "text": [
      "{'Unnamed: 0': {0: 'No', 1: 'No', 2: 'Yes', 3: 'Yes', 4: 'Yes', 5: 'No', 6: 'Yes', 7: 'No', 9: 'Yes', 10: 'Yes', 11: 'Yes', 12: 'Yes', 13: 'No'}}\n",
      "\n",
      "{'Unnamed: 0': 8, 'PlayTennis': 'Yes', 'Outlook': 'Sunny', 'Temperature': 'Cool', 'Humidity': 'Normal', 'Wind': 'Weak'} => Yes\n"
     ]
    }
   ],
   "source": [
    "import numpy as np\n",
    "import pandas as pd\n",
    "\n",
    "data = pd.read_csv('tennis.csv')\n",
    "\n",
    "def entropy(target):\n",
    "    val,counts = np.unique(target,return_counts = True)\n",
    "    ent = 0\n",
    "    for i in range(len(val)):\n",
    "        c = counts[i]/sum(counts)\n",
    "        ent += -c*np.log2(c)\n",
    "    return ent\n",
    "\n",
    "def infoGain(data,features,target):\n",
    "    te = entropy(data[target])\n",
    "    val,counts = np.unique(data[features],return_counts = True)\n",
    "    eg = 0\n",
    "    for i in range(len(val)):\n",
    "        c = counts[i]/sum(counts)\n",
    "        eg += c*entropy(data[data[features] == val[i]][target])\n",
    "    InfoGain = te-eg\n",
    "    return InfoGain\n",
    "\n",
    "def id3(data, features, target, pnode):\n",
    "    \n",
    "    t = np.unique(data[target])\n",
    "    \n",
    "    if len(t) == 1:\n",
    "        return t[0]\n",
    "    \n",
    "    if len(features) == 0:\n",
    "        return pnode\n",
    "    \n",
    "    pnode = t[np.argmax(t[1])]\n",
    "    \n",
    "    IG = [infoGain(data,f,target) for f in features]\n",
    "    index = np.argmax(IG)\n",
    "    \n",
    "    col = features[index]\n",
    "    tree = {col:{}}\n",
    "    \n",
    "    features = [f for f in features if f!=col]\n",
    "    \n",
    "    for val in np.unique(data[col]):\n",
    "        sub_data = data[data[col]==val].dropna()\n",
    "        subtree = id3(sub_data,features,target,pnode)\n",
    "        tree[col][val] = subtree\n",
    "    return tree\n",
    "\n",
    "testData = data.sample(frac = 0.1)\n",
    "data.drop(testData.index,inplace = True)\n",
    "\n",
    "target = 'PlayTennis'\n",
    "features = data.columns[data.columns!=target]\n",
    "\n",
    "tree = id3(data,features,target,None)\n",
    "print (tree, end='\\n\\n')\n",
    "\n",
    "test = testData.to_dict('records')[0]\n",
    "print(test, '=>', id3(test,features,target,None))"
   ]
  },
  {
   "cell_type": "code",
   "execution_count": null,
   "metadata": {},
   "outputs": [],
   "source": []
  }
 ],
 "metadata": {
  "kernelspec": {
   "display_name": "Python 3",
   "language": "python",
   "name": "python3"
  },
  "language_info": {
   "codemirror_mode": {
    "name": "ipython",
    "version": 3
   },
   "file_extension": ".py",
   "mimetype": "text/x-python",
   "name": "python",
   "nbconvert_exporter": "python",
   "pygments_lexer": "ipython3",
   "version": "3.8.5"
  }
 },
 "nbformat": 4,
 "nbformat_minor": 4
}
